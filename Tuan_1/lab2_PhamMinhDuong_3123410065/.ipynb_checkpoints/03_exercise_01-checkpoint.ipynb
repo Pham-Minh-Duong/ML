{
 "cells": [
  {
   "cell_type": "markdown",
   "id": "73c9d896-1730-4164-acd7-713c8763d7a9",
   "metadata": {},
   "source": [
    "# Cơ bản về ngôn ngữ lập trình Python\n",
    "\n",
    "**Cách gõ trong ô Markdown**\n",
    "\n",
    "Online Latex Equation: https://latex.codecogs.com/eqneditor/editor.php <br/>\n",
    "Online Table Markdown: https://www.tablesgenerator.com/ <br/>\n",
    "Jupyter Markdown Cheatsheet: https://tinyurl.com/2fuw833c\n",
    "\n",
    "\n",
    "**Tham khảo code Python**\n",
    "\n",
    "Python Tutorial: https://www.w3schools.com/python/default.asp"
   ]
  },
  {
   "cell_type": "markdown",
   "id": "07b44db7-c134-421f-af33-14dd7aa96ce5",
   "metadata": {},
   "source": [
    "## 1. Nhập/xuất, biểu thức tính toán"
   ]
  },
  {
   "cell_type": "markdown",
   "id": "8e49afec-5dd4-4416-bf09-58035939db6a",
   "metadata": {},
   "source": [
    "### Bài 1. Tính giá trị hàm số\n",
    "**Yêu cầu**: Hãy viết chương trình nhập vào số thực x và tính giá trị biểu thức:\n",
    "$$\n",
    "    f\\left(x\\right) = x + \\frac{x^5}{5!} + \\frac{\\sqrt{|x|}}{x^{3/2}}\n",
    "$$\n",
    "> Moi ban nhap vao gia tri cua bien so x: **2.3** <br/>\n",
    "> Gia tri cua ham so f(**2.3**) = **3.27**."
   ]
  },
  {
   "cell_type": "code",
   "execution_count": 1,
   "id": "0222e077-e720-410d-8c1a-336d5e5d16f1",
   "metadata": {},
   "outputs": [
    {
     "name": "stdin",
     "output_type": "stream",
     "text": [
      "Moi ban nhap vao gia tri cua bien so x:  22\n"
     ]
    },
    {
     "name": "stdout",
     "output_type": "stream",
     "text": [
      "Gia tri cua ham so f(22.0) = 42968.98.\n"
     ]
    }
   ],
   "source": [
    "# Khai báo thư viện\n",
    "import math\n",
    "\n",
    "# Nhập dữ liệu\n",
    "x = float(input('Moi ban nhap vao gia tri cua bien so x: '))\n",
    "\n",
    "# Xử lý\n",
    "f_x = x + (x**5) / math.factorial(5) + math.sqrt(abs(x)) / (x**(3/2))\n",
    "\n",
    "# Xuất dữ liệu\n",
    "print(f'Gia tri cua ham so f({x}) = {f_x:.2f}.')"
   ]
  },
  {
   "cell_type": "markdown",
   "id": "bcc9ff68-6942-4f11-b779-336bdfb9e85f",
   "metadata": {},
   "source": [
    "### Bài 2. Đổi sang giờ phút giây\n",
    "Một thiết bị hoạt động được t giây. Hãy viết chương trình chuyển số giây đó dưới dạng số giờ, số phút và số giây.\n",
    ">Nhap vao tong so giay: **4810** <br/>\n",
    ">**4810** giay co dang **1:20:10**"
   ]
  },
  {
   "cell_type": "code",
   "execution_count": 2,
   "id": "02844c11-d9a8-4fb8-9577-977b837d35c0",
   "metadata": {},
   "outputs": [
    {
     "name": "stdin",
     "output_type": "stream",
     "text": [
      "Nhap vao tong so giay:  23213\n"
     ]
    },
    {
     "name": "stdout",
     "output_type": "stream",
     "text": [
      "23213 giay co dang 6:26:53\n"
     ]
    }
   ],
   "source": [
    "# Nhập dữ liệu\n",
    "t = int(input('Nhap vao tong so giay: '))\n",
    "\n",
    "# Xử lý\n",
    "hh = t // 3600                # số giờ\n",
    "mm = (t % 3600) // 60         # số phút\n",
    "ss = t % 60                   # số giây còn lại\n",
    "\n",
    "# Xuất dữ liệu\n",
    "print(f'{t} giay co dang {hh}:{mm}:{ss}')"
   ]
  },
  {
   "cell_type": "markdown",
   "id": "76f60406-3cf2-4f3a-b4b4-b03c713a2307",
   "metadata": {},
   "source": [
    "## 2. Cấu trúc lựa chọn"
   ]
  },
  {
   "cell_type": "markdown",
   "id": "1be1908a-d353-49df-9537-4d1b61b0c760",
   "metadata": {},
   "source": [
    "### Bài 3. Giải phuơng trình bậc 1\n",
    "Nhập 2 số thực $a$, $b$. Tìm nghiệm của phương trình bậc 1 $ax + b = 0$.\n",
    ">Moi ban nhap he so a: **1** <br/>\n",
    ">Moi ban nhap he so b: **5** <br/>\n",
    ">Phuong trinh **1x + 5 = 0** co **1** nghiem x = **-5.00**."
   ]
  },
  {
   "cell_type": "code",
   "execution_count": 3,
   "id": "63f18b57-91fd-46e6-9cde-3c2f682c182f",
   "metadata": {},
   "outputs": [
    {
     "name": "stdin",
     "output_type": "stream",
     "text": [
      "Moi ban nhap he so a:  12\n",
      "Moi ban nhap he so b:  45\n"
     ]
    },
    {
     "name": "stdout",
     "output_type": "stream",
     "text": [
      "Phuong trinh 12.0x + 45.0 = 0 co 1 nghiem x = -3.75.\n"
     ]
    }
   ],
   "source": [
    "# Nhập dữ liệu\n",
    "a = float(input('Moi ban nhap he so a: '))\n",
    "b = float(input('Moi ban nhap he so b: '))\n",
    "\n",
    "# Xử lý\n",
    "if a == 0:\n",
    "    if b == 0:\n",
    "        flag = -1   # vô số nghiệm\n",
    "    else:\n",
    "        flag = 0    # vô nghiệm\n",
    "else:\n",
    "    flag = 1\n",
    "    x = -b / a\n",
    "\n",
    "# Xuất dữ liệu\n",
    "s = f'Phuong trinh {a}x + {b} = 0'\n",
    "if flag == -1:\n",
    "    print(f'{s} vo so nghiem.')\n",
    "elif flag == 0:\n",
    "    print(f'{s} vo nghiem.')\n",
    "else:\n",
    "    print(f'{s} co 1 nghiem x = {x:.2f}.')"
   ]
  },
  {
   "cell_type": "markdown",
   "id": "84a7bca4-f4fe-48ca-8f21-c655c66e1c31",
   "metadata": {},
   "source": [
    "### Bài 4. Chuyển ký số sang số\n",
    "Nhập một chuỗi s là chuỗi biểu diễn ký tự số trong tiếng Anh gồm {zero, one, two, three, four, five, six, seven, eight, nine}. Hãy kiểm tra chuỗi nhập có hợp lệ không? Nếu hợp lệ thì in ra ký số của chuỗi đó và chuỗi ký số bên tiếng việt tương ứng.\n",
    "> Moi ban nhap chuoi ky so s: One <br/>\n",
    "> Chuoi vua nhap hop le! \n",
    "> \"One\" bieu dien so cho \"1\" va ung voi tieng Viet \"mot\".\n",
    "\n",
    "> Moi ban nhap chuoi ky so s: hello <br/>\n",
    "> Chuoi vua nhap khong hop le!"
   ]
  },
  {
   "cell_type": "code",
   "execution_count": 4,
   "id": "4d07e647-1c61-415d-8dd4-bc0579502bf3",
   "metadata": {},
   "outputs": [
    {
     "name": "stdin",
     "output_type": "stream",
     "text": [
      "Moi ban nhap chuoi ky so s:  2 3 6 2 5 2\n"
     ]
    },
    {
     "name": "stdout",
     "output_type": "stream",
     "text": [
      "Chuoi vua nhap khong hop le!\n"
     ]
    }
   ],
   "source": [
    "s = input(\"Moi ban nhap chuoi ky so s: \")\n",
    "\n",
    "en  = [\"zero\", \"one\", \"two\", \"three\", \"four\", \"five\", \"six\", \"seven\", \"eight\", \"nine\"]\n",
    "vi  = [\"khong\", \"mot\", \"hai\", \"ba\", \"bon\", \"nam\", \"sau\", \"bay\", \"tam\", \"chin\"]\n",
    "num = [0, 1, 2, 3, 4, 5, 6, 7, 8, 9]\n",
    "\n",
    "# Xử lý\n",
    "s_lower = s.lower()   # chuyển về chữ thường để so sánh\n",
    "if s_lower in en:\n",
    "    idx = en.index(s_lower)\n",
    "    print(\"Chuoi vua nhap hop le!\")\n",
    "    print(f'\"{s}\" bieu dien so cho \"{num[idx]}\" va ung voi tieng Viet \"{vi[idx]}\".')\n",
    "else:\n",
    "    print(\"Chuoi vua nhap khong hop le!\")"
   ]
  },
  {
   "cell_type": "markdown",
   "id": "b43dd5f2-c25b-40e1-9004-82223f947197",
   "metadata": {},
   "source": [
    "## 3. Cấu trúc lặp"
   ]
  },
  {
   "cell_type": "markdown",
   "id": "2e5d5f4d-f40c-4bc7-93ea-78a4c349687c",
   "metadata": {},
   "source": [
    "### Bài 5. Tính tổng các số chẵn\n",
    "Nhập một số nguyên n. Hãy tính tổng các số chẵn từ 1 đến n.\n",
    "> Moi ban nhap so nguyen n: **100** <br>\n",
    "> Tong cac so chan tu 1 den **100** la **2550**."
   ]
  },
  {
   "cell_type": "code",
   "execution_count": 5,
   "id": "f240923c-59c3-444c-ba29-d6ba07f0aa85",
   "metadata": {},
   "outputs": [
    {
     "name": "stdin",
     "output_type": "stream",
     "text": [
      "Moi ban nhap so nguyen n:  125\n"
     ]
    },
    {
     "name": "stdout",
     "output_type": "stream",
     "text": [
      "Tong cac so chan tu 1 den 125 la 3906.\n"
     ]
    }
   ],
   "source": [
    "# Nhập dữ liệu\n",
    "n = int(input(\"Moi ban nhap so nguyen n: \"))\n",
    "\n",
    "# Xử lý\n",
    "s = 0\n",
    "for i in range(2, n+1, 2):   # duyệt các số chẵn từ 2 đến n\n",
    "    s += i\n",
    "\n",
    "# Xuất dữ liệu\n",
    "print(f'Tong cac so chan tu 1 den {n} la {s}.')"
   ]
  },
  {
   "cell_type": "markdown",
   "id": "afc93ee2-8858-410c-8294-2e1b65274bec",
   "metadata": {},
   "source": [
    "### Bài 6. Kiểm tra số nguyên tố\n",
    "\n",
    "Nhập vào một số nguyên dương n. Hãy kiểm tra xem n có phải là nguyên tố không?\n",
    "> Moi nhap nhap so nguyen n: **10** <br/>\n",
    "> **10** khong phai la so nguyen to.\n",
    "\n",
    "> Moi nhap nhap so nguyen n: **97** <br/>\n",
    "> **97** la so nguyen to.\n",
    "\n",
    "**Lưu ý**: n là số nguyên tố khi và chỉ khi không tồn tại số nguyên từ $2$ đến $\\sqrt(n)$ mà chia hết cho n."
   ]
  },
  {
   "cell_type": "code",
   "execution_count": 6,
   "id": "6d370d7b-cce8-4b67-aa3f-3e6e147a0800",
   "metadata": {},
   "outputs": [
    {
     "name": "stdin",
     "output_type": "stream",
     "text": [
      "Moi ban nhap so nguyen n:  235\n"
     ]
    },
    {
     "name": "stdout",
     "output_type": "stream",
     "text": [
      "235 khong la so nguyen to.\n"
     ]
    }
   ],
   "source": [
    "# Nhập dữ liệu\n",
    "n = int(input(\"Moi ban nhap so nguyen n: \"))\n",
    "\n",
    "# Xử lý\n",
    "lant = True\n",
    "if n < 2:\n",
    "    lant = False\n",
    "else:\n",
    "    for i in range(2, int(n**0.5) + 1):\n",
    "        if n % i == 0:\n",
    "            lant = False\n",
    "            break\n",
    "\n",
    "# Xuất dữ liệu\n",
    "if lant == True:\n",
    "    print(f'{n} la so nguyen to.')\n",
    "else:\n",
    "    print(f'{n} khong la so nguyen to.')"
   ]
  },
  {
   "cell_type": "markdown",
   "id": "baee5120-2da7-474a-8864-8b6ea4e34a12",
   "metadata": {},
   "source": [
    "## 4. Xử lý ngoại lệ và hàm số"
   ]
  },
  {
   "cell_type": "markdown",
   "id": "e9ffe3c5-ee2d-4b13-a17a-4b3f5d8625f9",
   "metadata": {},
   "source": [
    "### Bài 7. Giải phương trình bậc 2\n",
    "Nhập 3 số thực a, b, c (có kiểm tra dữ liệu nhập số thực). Hãy xây dựng hàm giải phương trình bậc 2 $ax^2+bx+c=0$ và in kết quả giải ra màn hình.\n",
    "> Moi ban nhap he so a, b, c:  **a b c**<br/>\n",
    "> Ban nhap sai! Moi ban nhap lai!<br/>\n",
    "> Moi ban nhap he so a, b, c:  **1 a 3**<br/>\n",
    "> Ban nhap sai! Moi ban nhap lai!<br/>\n",
    "> Moi ban nhap he so a, b, c: **1 5 6**<br/>\n",
    "> Phuong trinh bac 2 **1x^2 + 5x + 6 = 0** co **2**  nghiem x1 = **-2.00**, x2 = **-3.00**."
   ]
  },
  {
   "cell_type": "code",
   "execution_count": 7,
   "id": "2db6aa91-2a43-4b2b-9995-b4dd5e648d50",
   "metadata": {},
   "outputs": [],
   "source": [
    "def NhapDuLieu():\n",
    "    \"\"\"\n",
    "    Input: \n",
    "        Ban phim = 1 5 6\n",
    "    Output:\n",
    "        (a, b, c) --> (1.0, 5.0, 6.0)\n",
    "    \"\"\"\n",
    "    while True:\n",
    "        try:\n",
    "            s = input(\"Moi ban nhap he so a, b, c: \")\n",
    "            a, b, c = map(float, s.split())\n",
    "            return a, b, c\n",
    "        except:\n",
    "            print(\"Ban nhap sai! Moi ban nhap lai!\")\n"
   ]
  },
  {
   "cell_type": "code",
   "execution_count": 8,
   "id": "51be4419-b109-4abc-b5b5-acaacf715c28",
   "metadata": {},
   "outputs": [
    {
     "name": "stdin",
     "output_type": "stream",
     "text": [
      "Moi ban nhap he so a, b, c:  2 5 6\n"
     ]
    },
    {
     "name": "stdout",
     "output_type": "stream",
     "text": [
      "Ban da nhap: a=2.0, b=5.0, c=6.0\n"
     ]
    }
   ],
   "source": [
    "# Kiểm tra hàm\n",
    "a, b, c = NhapDuLieu()\n",
    "print(f\"Ban da nhap: a={a}, b={b}, c={c}\")"
   ]
  },
  {
   "cell_type": "code",
   "execution_count": 9,
   "id": "d3934e55-3d4a-4dcb-976a-c080c585f626",
   "metadata": {},
   "outputs": [],
   "source": [
    "def GiaiPhuongTrinhBac2(a, b, c):\n",
    "    \"\"\"\n",
    "    Input: a, b, c\n",
    "    Output: \n",
    "    + flag = -1 (VSN), 0 (VN), k (k nghiem)\n",
    "    + () --> flag = -1, 0\n",
    "    + (x,) --> flag = 1\n",
    "    + (x1, x2) --> flag = 2\n",
    "    \"\"\"\n",
    "    import math\n",
    "    flag = None\n",
    "    x = ()\n",
    "\n",
    "    if a == 0:   # phương trình bậc 1 hoặc vô nghiệm/vô số nghiệm\n",
    "        if b == 0:\n",
    "            if c == 0:\n",
    "                flag = -1   # vô số nghiệm\n",
    "            else:\n",
    "                flag = 0    # vô nghiệm\n",
    "        else:\n",
    "            flag = 1\n",
    "            x = (-c / b,)\n",
    "    else:   # phương trình bậc 2\n",
    "        delta = b**2 - 4*a*c\n",
    "        if delta < 0:\n",
    "            flag = 0   # vô nghiệm\n",
    "        elif delta == 0:\n",
    "            flag = 1\n",
    "            x = (-b / (2*a),)\n",
    "        else:\n",
    "            flag = 2\n",
    "            x1 = (-b + math.sqrt(delta)) / (2*a)\n",
    "            x2 = (-b - math.sqrt(delta)) / (2*a)\n",
    "            x = (x1, x2)\n",
    "    return flag, x"
   ]
  },
  {
   "cell_type": "code",
   "execution_count": 10,
   "id": "43292ffc-23fa-4e9b-b218-80f589f4a93b",
   "metadata": {},
   "outputs": [
    {
     "name": "stdout",
     "output_type": "stream",
     "text": [
      "a = 0\n",
      "So nghiem: -1, nghiem = ()\n",
      "So nghiem: 0, nghiem = ()\n",
      "So nghiem: 1, nghiem = (-1.2,)\n",
      "a <> 0\n",
      "So nghiem: 0, nghiem = ()\n",
      "So nghiem: 1, nghiem = (-1.0,)\n",
      "So nghiem: 2, nghiem = (-2.0, -3.0)\n"
     ]
    }
   ],
   "source": [
    "print(\"a = 0\")\n",
    "flag, x = GiaiPhuongTrinhBac2(0, 0, 0)\n",
    "print(f'So nghiem: {flag}, nghiem = {x}')\n",
    "flag, x = GiaiPhuongTrinhBac2(0, 0, 5)\n",
    "print(f'So nghiem: {flag}, nghiem = {x}')\n",
    "flag, x = GiaiPhuongTrinhBac2(0, 5, 6)\n",
    "print(f'So nghiem: {flag}, nghiem = {x}')\n",
    "\n",
    "print(\"a <> 0\")\n",
    "flag, x = GiaiPhuongTrinhBac2(5, 1, 2)\n",
    "print(f'So nghiem: {flag}, nghiem = {x}')\n",
    "flag, x = GiaiPhuongTrinhBac2(1, 2, 1)\n",
    "print(f'So nghiem: {flag}, nghiem = {x}')\n",
    "flag, x = GiaiPhuongTrinhBac2(1, 5, 6)\n",
    "print(f'So nghiem: {flag}, nghiem = {x}')"
   ]
  },
  {
   "cell_type": "code",
   "execution_count": 11,
   "id": "0d7d94a5-eba3-48bb-a008-9fa6084f0e60",
   "metadata": {},
   "outputs": [
    {
     "name": "stdin",
     "output_type": "stream",
     "text": [
      "Moi ban nhap he so a, b, c:  2 6 3\n"
     ]
    },
    {
     "name": "stdout",
     "output_type": "stream",
     "text": [
      "Phuong trinh bac 2 2.0x^2 + 6.0x + 3.0 = 0 co 2 nghiem, x1 = -0.63, x2 = -2.37!\n"
     ]
    }
   ],
   "source": [
    "# Kết nối bài\n",
    "a, b, c = NhapDuLieu()\n",
    "# Gọi hàm giải\n",
    "flag, x = GiaiPhuongTrinhBac2(a, b, c)\n",
    "# Xuất dữ liệu\n",
    "s = f'Phuong trinh bac 2 {a}x^2 + {b}x + {c} = 0'\n",
    "if flag == -1:\n",
    "    print(f'{s} co vo so nghiem!')\n",
    "elif flag == 0:\n",
    "    print(f'{s} vo nghiem!')\n",
    "elif flag == 1:\n",
    "    print(f'{s} co 1 nghiem, x = {x[0]:.2f}!')\n",
    "elif flag == 2:\n",
    "    print(f'{s} co 2 nghiem, x1 = {x[0]:.2f}, x2 = {x[1]:.2f}!')"
   ]
  },
  {
   "cell_type": "markdown",
   "id": "5dbdd8d0-edf7-42d7-95b0-0d604957c2da",
   "metadata": {},
   "source": [
    "## 5. Dữ liệu nâng cao (List, Tuple, Set, Dictionary)"
   ]
  },
  {
   "cell_type": "markdown",
   "id": "ebae1fc0-80dc-48c3-ab6e-b214c18c9337",
   "metadata": {},
   "source": [
    "### Bài 8. Các thao tác xử lý mảng số\n",
    "\n",
    "Viết chương trình xây dựng các hàm sau cho List và kiểm tra tính đúng đắn của các hàm số:\n",
    "+ Nhập một mảng số từ bàn phím cách nhau bởi khoảng trắng. Xuất mảng ra màn hình. <br/>\n",
    "+ Sinh một mảng số ngẫu nhiên có n phần tử trong khoảng a, b.\n",
    "+ Tính tổng của mảng số, đếm các phần tử chẵn, lẻ trong mảng.\n",
    "+ Cho một mảng số, hãy trả về dãy chẳn, dãy lẻ.\n",
    "\n",
    "> a = NhapMang() <br/>\n",
    "> XuatMang(a) <br/>\n",
    "> b = SinhNgauNhien(10, -10, 10) <br/>\n",
    "> XuatMang(b) <br/>\n",
    "> tong, chan, le = TinhTongChanLe(b) <br/>\n",
    "> a_chan, a_le = TimChanLe(b) <br/>"
   ]
  },
  {
   "cell_type": "code",
   "execution_count": 12,
   "id": "a9498315-1111-49b3-84f5-3c079218ac09",
   "metadata": {},
   "outputs": [],
   "source": [
    "def NhapMang():\n",
    "    \"\"\"\n",
    "    Input:\n",
    "        Ban phim = 1 4 1 2 3 4 1 2 3 3 1 2 3 4 10 2\n",
    "    Output:\n",
    "        a = [1, 4, 1, 2, 3, 4, 1, 2, 3, 3, 1, 2, 3, 4, 10, 2]\n",
    "    \"\"\"\n",
    "    s = input(\"Moi ban nhap mang so (cach nhau boi dau cach): \")\n",
    "    a = list(map(int, s.split()))\n",
    "    return a"
   ]
  },
  {
   "cell_type": "code",
   "execution_count": 13,
   "id": "664fcf5d-94e2-4c70-9fee-fdb7dba88554",
   "metadata": {},
   "outputs": [
    {
     "name": "stdin",
     "output_type": "stream",
     "text": [
      "Moi ban nhap mang so (cach nhau boi dau cach):  1 4 1 2 3 4 1 2 3 3 1 2 3 4 10 2\n"
     ]
    },
    {
     "name": "stdout",
     "output_type": "stream",
     "text": [
      "[1, 4, 1, 2, 3, 4, 1, 2, 3, 3, 1, 2, 3, 4, 10, 2]\n"
     ]
    }
   ],
   "source": [
    "a = NhapMang() # 1 4 1 2 3 4 1 2 3 3 1 2 3 4 10 2\n",
    "print(a)"
   ]
  },
  {
   "cell_type": "code",
   "execution_count": 14,
   "id": "f220a6b9-90e5-4364-950b-b263237dd216",
   "metadata": {},
   "outputs": [],
   "source": [
    "def XuatMang(a):\n",
    "    \"\"\"\n",
    "    Input:\n",
    "        a = [1, 4, 1, 2, 3, 4, 1, 2, 3, 3, 1, 2, 3, 4, 10, 2]\n",
    "    Output: \n",
    "        In ra man hinh:\n",
    "            Mang co 16 phan tu: 1 4 1 2 3 4 1 2 3 3 1 2 3 4 10 2 \n",
    "    \"\"\"\n",
    "    print(f'Mang co {len(a)} phan tu:', *a)"
   ]
  },
  {
   "cell_type": "code",
   "execution_count": 15,
   "id": "725ab292-764e-4870-bc2e-c3097a450d67",
   "metadata": {},
   "outputs": [
    {
     "name": "stdout",
     "output_type": "stream",
     "text": [
      "Mang co 16 phan tu: 1 4 1 2 3 4 1 2 3 3 1 2 3 4 10 2\n"
     ]
    }
   ],
   "source": [
    "a = [1, 4, 1, 2, 3, 4, 1, 2, 3, 3, 1, 2, 3, 4, 10, 2]\n",
    "XuatMang(a)"
   ]
  },
  {
   "cell_type": "code",
   "execution_count": 16,
   "id": "9a3de916-f540-4266-98d8-947b3885044d",
   "metadata": {},
   "outputs": [],
   "source": [
    "import random\n",
    "def SinhNgauNhien(n, vmin = -10, vmax = 10):\n",
    "    \"\"\"\n",
    "    Input:\n",
    "        n = 30, vmin = -10, vmax = 10\n",
    "    Output:\n",
    "        a = [random list]\n",
    "    \"\"\"    \n",
    "    a = [random.randint(vmin, vmax) for _ in range(n)]\n",
    "    return a"
   ]
  },
  {
   "cell_type": "code",
   "execution_count": 17,
   "id": "bd00a03f-a70c-46b4-9fcd-2c37d8d560c7",
   "metadata": {},
   "outputs": [
    {
     "name": "stdout",
     "output_type": "stream",
     "text": [
      "[3, 9, -6, 1, 3, -1, 9, -5, 7, -6, 5, -8, -6, -2, 4, -4, 8, -9, 4, -3, -3, 6, 2, 2, -2, 3, -7, -4, -5, -2]\n",
      "[7, 10, 5, 7, 4, 7, 0, 9, 0, 0, 7, 9, 6, 5, 6, 2, 1, 9, 4, 7, 4, 8, 8, 1, 0, 7, 10, 5, 2, 8]\n",
      "[-2, -5, -1, -3, -9, -1, -8, -10, -3, 2, -9, -4, -9, -7, -2, -6, -10, -5, -4, -6, 2, -1, -3, 0, -9, 1, -9, 1, -3, -3]\n"
     ]
    }
   ],
   "source": [
    "b = SinhNgauNhien(30, -10, 10)\n",
    "print(b)\n",
    "b = SinhNgauNhien(30, vmin = 0)\n",
    "print(b)\n",
    "b = SinhNgauNhien(30, vmax = 2)\n",
    "print(b)"
   ]
  },
  {
   "cell_type": "code",
   "execution_count": 18,
   "id": "5123a233-0395-4e91-aca4-00a931132dd1",
   "metadata": {},
   "outputs": [],
   "source": [
    "def DemTongChanLe(a):\n",
    "    \"\"\"\n",
    "    Input: a[] = [1, 4, 2, 0, -1, -7, 3, -6, ...]\n",
    "    Output: tong, sochan, sole\n",
    "    \"\"\"\n",
    "    tong = sum(a)\n",
    "    sochan = sum(1 for x in a if x % 2 == 0)\n",
    "    sole = len(a) - sochan\n",
    "    return tong, sochan, sole"
   ]
  },
  {
   "cell_type": "code",
   "execution_count": 19,
   "id": "0040a975-3245-47ca-90d6-342021fb30bd",
   "metadata": {},
   "outputs": [
    {
     "name": "stdout",
     "output_type": "stream",
     "text": [
      "(-31, 17, 13)\n",
      "(141, 17, 13)\n"
     ]
    }
   ],
   "source": [
    "a = [1, 4, 2, 0, -1, -7, 3, -6, 4, 9, -5, 7, 7, -7, -10, 1, -10, 9, -4, -6, 10, -2, -10, -8, -3, 2, -7, -10, 6, 0]\n",
    "print(DemTongChanLe(a))\n",
    "a = [9, 6, 5, 0, 8, 8, 1, 10, 0, 0, 1, 1, 2, 7, 1, 10, 9, 1, 10, 8, 2, 8, 4, 5, 4, 5, 5, 3, 6, 2]\n",
    "print(DemTongChanLe(a))"
   ]
  },
  {
   "cell_type": "code",
   "execution_count": 20,
   "id": "06977dfb-4499-4f23-8159-8d836e5437ba",
   "metadata": {},
   "outputs": [],
   "source": [
    "def DayChanLe(a): \n",
    "    \"\"\"\n",
    "    Input:\n",
    "        a = [1, 4, 2, 0, -1, -7, 3, -6, ...]\n",
    "    Output: (achan, ale)\n",
    "    \"\"\"    \n",
    "    achan = [x for x in a if x % 2 == 0]\n",
    "    ale = [x for x in a if x % 2 != 0]\n",
    "    return achan, ale"
   ]
  },
  {
   "cell_type": "code",
   "execution_count": 21,
   "id": "f2deb4e1-235c-4941-87ba-b4a967ed5149",
   "metadata": {},
   "outputs": [
    {
     "name": "stdout",
     "output_type": "stream",
     "text": [
      "DayChanLe:\n",
      "Chan = [4, 2, 0, -6, 4, -10, -10, -4, -6, 10, -2, -10, -8, 2, -10, 6, 0]\n",
      "Le = [1, -1, -7, 3, 9, -5, 7, 7, -7, 1, 9, -3, -7]\n",
      "\n"
     ]
    }
   ],
   "source": [
    "a = [1, 4, 2, 0, -1, -7, 3, -6, 4, 9, -5, 7, 7, -7, -10, 1, -10, 9, -4, -6, 10, -2, -10, -8, -3, 2, -7, -10, 6, 0]\n",
    "achan, ale = DayChanLe(a)\n",
    "print(f'DayChanLe:\\nChan = {achan}\\nLe = {ale}\\n')"
   ]
  },
  {
   "cell_type": "markdown",
   "id": "78d22e62-ac6f-4cd0-9741-5bb1d52c793f",
   "metadata": {},
   "source": [
    "### Bài 9. Các thao tác trên tập hợp, từ điển\n",
    "\n",
    "Viết chương trình nhập vào một dãy ký tự a cách nhau bởi khoảng trắng. Hãy thực hiện:\n",
    "+ In các ký tự trong a không trùng nhau và được sắp theo thứ tự tăng dần\n",
    "+ Đếm số lần xuất hiện các ký tự trong dãy a\n"
   ]
  },
  {
   "cell_type": "code",
   "execution_count": 22,
   "id": "e9ed12b7-a7fb-4522-ae7e-75e21af8b8a6",
   "metadata": {},
   "outputs": [],
   "source": [
    "def XuLyKhongTrung(a):\n",
    "    \"\"\"\n",
    "    Input:\n",
    "        a = ['A', 'G', 'C', 'A', 'C', 'F', 'F', 'T', 'H']\n",
    "    Output:\n",
    "        s = ['A', 'C', 'F', 'G', 'H', 'T']\n",
    "    \"\"\"\n",
    "    s = set(a)   # dùng set để loại bỏ trùng\n",
    "    return sorted(s)   # sắp xếp tăng dần"
   ]
  },
  {
   "cell_type": "code",
   "execution_count": 23,
   "id": "c6095e7e-50b3-4492-af4b-202fd63e7a4a",
   "metadata": {},
   "outputs": [
    {
     "name": "stdout",
     "output_type": "stream",
     "text": [
      "['A', 'C', 'F', 'G', 'H', 'T']\n"
     ]
    }
   ],
   "source": [
    "a = ['A', 'G', 'C', 'A', 'C', 'F', 'F', 'T', 'H']\n",
    "b = XuLyKhongTrung(a)\n",
    "print(b)"
   ]
  },
  {
   "cell_type": "code",
   "execution_count": 24,
   "id": "f12cd309-7f02-4794-a0ee-62ac70806b58",
   "metadata": {},
   "outputs": [],
   "source": [
    "def DemSoLanXuatHien(a):\n",
    "    \"\"\"\n",
    "    Input:\n",
    "        a = ['A', 'G', 'C', 'A', 'C', 'F', 'F', 'T', 'H']\n",
    "    Output:\n",
    "        dem = {'A': 2, 'G': 1, 'C': 2, 'F': 2, 'T': 1, 'H': 1}\n",
    "    \"\"\"\n",
    "    dem = {}\n",
    "    for ch in a:\n",
    "        dem[ch] = dem.get(ch, 0) + 1   # tăng đếm mỗi lần gặp\n",
    "    return dem"
   ]
  },
  {
   "cell_type": "code",
   "execution_count": 25,
   "id": "fed4d154-5038-46fc-a950-95080e8e3541",
   "metadata": {},
   "outputs": [
    {
     "name": "stdout",
     "output_type": "stream",
     "text": [
      "{'A': 2, 'G': 1, 'C': 2, 'F': 2, 'T': 1, 'H': 1}\n"
     ]
    }
   ],
   "source": [
    "a = ['A', 'G', 'C', 'A', 'C', 'F', 'F', 'T', 'H']\n",
    "b = DemSoLanXuatHien(a)\n",
    "print(b)"
   ]
  },
  {
   "cell_type": "markdown",
   "id": "691dc388-5ea9-49ab-a26f-1bbb5487c17a",
   "metadata": {},
   "source": [
    "# Kết thúc"
   ]
  }
 ],
 "metadata": {
  "kernelspec": {
   "display_name": "Python 3 (ipykernel)",
   "language": "python",
   "name": "python3"
  },
  "language_info": {
   "codemirror_mode": {
    "name": "ipython",
    "version": 3
   },
   "file_extension": ".py",
   "mimetype": "text/x-python",
   "name": "python",
   "nbconvert_exporter": "python",
   "pygments_lexer": "ipython3",
   "version": "3.13.5"
  }
 },
 "nbformat": 4,
 "nbformat_minor": 5
}
