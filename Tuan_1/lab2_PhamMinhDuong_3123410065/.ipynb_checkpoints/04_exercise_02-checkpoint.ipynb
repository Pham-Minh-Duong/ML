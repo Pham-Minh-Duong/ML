{
 "cells": [
  {
   "cell_type": "markdown",
   "id": "7676dfb2-b458-4506-a796-2d159b928e24",
   "metadata": {},
   "source": [
    "# Kỹ thuật lập trình Python"
   ]
  },
  {
   "cell_type": "markdown",
   "id": "9bc962fc-f90e-4f01-8c69-31f7ed54f3df",
   "metadata": {},
   "source": [
    "## Làm quen với Numpy"
   ]
  },
  {
   "cell_type": "markdown",
   "id": "07bf810a-ea5a-4c43-9eb3-a8d8e9471cdf",
   "metadata": {},
   "source": [
    "### Bài 1. Tính toán trên dãy số"
   ]
  },
  {
   "cell_type": "markdown",
   "id": "ae8cd2ce-8a2e-4b00-87d3-6f1227edb5ba",
   "metadata": {},
   "source": [
    "#### 1. Tạo một dãy số a có N phần tử (N = 10)"
   ]
  },
  {
   "cell_type": "code",
   "execution_count": null,
   "id": "f8536379-954d-49e0-bca9-e47790902844",
   "metadata": {},
   "outputs": [],
   "source": [
    "import numpy as np # Khai báo thư viện numpy\n",
    "\n",
    "print(\"1. Tạo một dãy số a có N phần tử (N = 10)\")\n",
    "N = 10\n",
    "# Tạo dãy số từ 1 đến 10\n",
    "a = np.arange(1, N+1)\n",
    "\n",
    "print(\"Day so a: \", a)"
   ]
  },
  {
   "cell_type": "markdown",
   "id": "19dad964-c668-4fda-88e6-546d7c157af6",
   "metadata": {},
   "source": [
    "#### 2. Các thao tác trên dãy số a\n",
    "(a) Bình phương các phần tử trong dãy số <br/>\n",
    "(b) Tìm số lượng các phần tử của dãy số <br/>\n",
    "(c) In ra giá trị lớn nhất, giá trị nhỏ nhất và giá trị trung bình <br/>\n",
    "(d) Tính phương sai của dãy số $\\sigma^2 = \\frac{\\sum{\\left(a_i - \\mu\\right)^2}}{N - 1}$ với $\\mu = \\frac{\\sum{a_i}}{N}$ và độ lệch chuẩn $var = \\sqrt{\\sigma^2}$"
   ]
  },
  {
   "cell_type": "code",
   "execution_count": null,
   "id": "6ca83a0a-9ec5-4cc5-bea0-9afe911f0e2c",
   "metadata": {},
   "outputs": [],
   "source": [
    "import numpy as np\n",
    "\n",
    "print(\"2. Các thao tác tính toán đơn giản với dãy số a\")\n",
    "\n",
    "# Giả sử a đã có từ trước, ví dụ:\n",
    "a = np.arange(1, 11)   # [1 2 3 4 5 6 7 8 9 10]\n",
    "\n",
    "# (a) Bình phương các phần tử\n",
    "a2 = a**2\n",
    "\n",
    "# (b) Tìm số lượng phần tử\n",
    "na = len(a)\n",
    "\n",
    "# (c) Giá trị lớn nhất, nhỏ nhất, trung bình\n",
    "v_max = np.max(a)\n",
    "v_min = np.min(a)\n",
    "v_avg = np.mean(a)\n",
    "\n",
    "# (d) Phương sai và độ lệch chuẩn\n",
    "mu = v_avg\n",
    "v_sigma2 = np.sum((a - mu)**2) / (na - 1)   # phương sai mẫu\n",
    "v_var = np.sqrt(v_sigma2)                   # độ lệch chuẩn\n",
    "\n",
    "# Xuất kết quả\n",
    "print(\"a. Binh phuong a: \", a2)\n",
    "print(\"\\nb. Do dai a: \", na)\n",
    "print(f'\\nc. Gia tri lon nhat: [{v_max}], gia tri nho nhat: [{v_min}], gia tri trung binh [{v_avg}]')\n",
    "print(f'\\nd. Phuong sai: [{v_sigma2: .2f}] va do lech chuan: [{v_var: .2f}]')"
   ]
  },
  {
   "cell_type": "markdown",
   "id": "1544add1-9c28-45fb-a1ba-2e935d8ec387",
   "metadata": {},
   "source": [
    "#### 3. Toán tử trên hai dãy số\n",
    "(a) Tạo dãy số x có 10 phần tử từ 1 đến 10 (dùng hàm np.arange) <br/>\n",
    "(b) Liệt kê và đếm số lượng phần tử chẵn và lẻ có trong dãy a và x <br/>\n",
    "(c) Tính khoảng cách giữa các phần tử ở vị trí lẻ của mảng a và x với $s = \\sqrt{\\sum{\\left(a_i - x_i\\right)^2}}$ với $i$ lẻ<br/>\n",
    "(d) Tìm khoảng cách nhỏ nhất giữa tập a và x. Ví dụ: min({1, 3, 5}, {2, 10, 8}} = 1"
   ]
  },
  {
   "cell_type": "code",
   "execution_count": null,
   "id": "f95fbd9a-5df4-41fd-894b-e055a0545a28",
   "metadata": {},
   "outputs": [],
   "source": [
    "print(\"3. Xử lý khác trên dãy số\")\n",
    "# (a) Tạo dãy số x có 10 phần tử từ 1 đến 10\n",
    "x = np.arange(1, 11)\n",
    "\n",
    "print(f'a. Day so x: {x}')"
   ]
  },
  {
   "cell_type": "code",
   "execution_count": null,
   "id": "74b2d375-55e9-4889-85e5-7e6ca0932f71",
   "metadata": {},
   "outputs": [],
   "source": [
    "# (b) Liệt kê và đếm số lượng phần tử chẵn, lẻ trong dãy a và x\n",
    "\n",
    "a_la_chan = a % 2 == 0\n",
    "x_la_chan = x % 2 == 0\n",
    "\n",
    "a_chan = a[a_la_chan]\n",
    "x_chan = x[x_la_chan]\n",
    "\n",
    "n_a_chan = len(a_chan)\n",
    "n_x_chan = len(x_chan)\n",
    "\n",
    "print(\"b. Cac phan tu chan trong day a, x: \")\n",
    "print(f\"+ Day a: {a}\")\n",
    "print(f\"  - Loc chan: {a_la_chan}\")\n",
    "print(f\"  - Day chua phan tu chan trong a: {a_chan}, so luong {n_a_chan} phan tu.\")\n",
    "print(f\"+ Day x: {x}\")\n",
    "print(f\"  - Loc chan: {x_la_chan}\")\n",
    "print(f\"  - Day chua phan tu chan trong x: {x_chan}, so luong {n_x_chan} phan tu.\")"
   ]
  },
  {
   "cell_type": "code",
   "execution_count": null,
   "id": "86e6e20e-9668-4c52-96e4-aeb77bcb70ac",
   "metadata": {},
   "outputs": [],
   "source": [
    "# (c) Tính khoảng cách tại vị trí lẻ\n",
    "v_le = np.arange(len(a)) % 2 == 1  # index lẻ (0-based)\n",
    "a_le = a[v_le]\n",
    "x_le = x[v_le]\n",
    "\n",
    "hieu_le = a_le - x_le\n",
    "kc_le = np.sqrt(np.sum(hieu_le**2))\n",
    "\n",
    "print(\"c. Tính hiệu các phần tử ở vị trí lẻ của mảng a và x: \")\n",
    "print(f\"+ Vi tri le trong a va x: {v_le}\")\n",
    "print(f\"+ Day so a: {a} va cac so o vi tri le: {a_le}\")\n",
    "print(f\"+ Day so x: {x} va cac so o vi tri le: {x_le}\")\n",
    "print(f\"+ Hieu cua a va x o vi tri le: {hieu_le}\")\n",
    "print(f\"+ Khoang cach cac phan tu cua a va x o vi tri le: {kc_le: .2f}\")"
   ]
  },
  {
   "cell_type": "code",
   "execution_count": null,
   "id": "7e3074c1-231b-4568-ac52-8beb9e99c21a",
   "metadata": {},
   "outputs": [],
   "source": [
    "print(\"d. Tìm khoảng cách nhỏ nhất giữa tập a và x.\")\n",
    "\n",
    "# Broadcasting: mỗi phần tử của a so với tất cả phần tử của x\n",
    "diff = a[:, np.newaxis] - x\n",
    "v_min = np.min(np.abs(diff))\n",
    "\n",
    "print(f\"+ Day a: {a}\")\n",
    "print(f\"+ Day x: {x}\")\n",
    "print(f\"+ Khoang cach nho nhat: {v_min}\")"
   ]
  },
  {
   "cell_type": "markdown",
   "id": "82afec66-0eb3-4bd9-be58-29d6bceaff95",
   "metadata": {},
   "source": [
    "#### 4. Sinh ngẫu nhiên dãy số\n",
    "(a) Sinh ngẫu nhiên dãy số có 100 phần tử theo phân bố đều với giá trị trong đoạn [1, 10] và vẽ đồ thị tần số xuất hiện <br/> \n",
    "(b) Sinh ngẫu nhiên N diem (x, y) với y là hàm phân phối chuẩn $N(\\mu = 1, \\sigma^2 = 1.0)$: <br/>\n",
    " $$\n",
    " y = f\\left(x| \\mu, \\sigma\\right) = \\frac{1}{\\sigma\\sqrt{2\\pi}}exp\\left(-\\frac{\\left(x - \\mu\\right)^2}{2\\sigma^2}\\right)\n",
    " $$\n",
    " nơi mà $x \\in [\\mu - 5\\sigma, \\mu + 5\\sigma]$ <br/> \n",
    " (c) Sinh ngẫu nhiên dãy số có 100000 phần tử theo phân bố chuẩn $N(\\mu = 1, \\sigma^2 = 1.0)$ và vẽ đồ thị tần số xuất hiện <br/> <br/> "
   ]
  },
  {
   "cell_type": "code",
   "execution_count": null,
   "id": "f1d40d7c-c99a-49d9-84af-f3f80a58f244",
   "metadata": {},
   "outputs": [],
   "source": [
    "import matplotlib.pyplot as plt  # Khai báo thư viện pyplot trong matplotlib\n",
    "\n",
    "# (a) Sinh ngẫu nhiên dãy số có 100 phần tử theo phân bố đều [1, 10]\n",
    "a_rand = np.random.randint(1, 11, size=100)  # 100 số nguyên trong [1, 10]\n",
    "value, cnt = np.unique(a_rand, return_counts=True)\n",
    "\n",
    "print(\"a. Sinh ngẫu nhiên theo phân bố đều\")\n",
    "print(f\"+ Gia tri: {value}\")\n",
    "print(f\"+ So lan xuat hien: {cnt}\")\n",
    "print(\"+ Do thi ham so xuat hien\")\n",
    "\n",
    "plt.figure(figsize=(6,6))      # kích thước bản vẽ\n",
    "plt.bar(value, cnt)            # vẽ biểu đồ tần số\n",
    "plt.xlim(0, 11)                # giới hạn trục x\n",
    "plt.ylim(0, np.max(cnt) + 10)  # giới hạn trục y\n",
    "plt.savefig(\"4a.png\")          # lưu đồ thị\n",
    "plt.show()"
   ]
  },
  {
   "cell_type": "code",
   "execution_count": null,
   "id": "4ebfc4b4-26a4-49c5-866c-51f9a6706108",
   "metadata": {},
   "outputs": [],
   "source": [
    "# (b) Sinh ngẫu nhiên N điểm (x, y) với y là phân phối chuẩn N(μ=1, σ^2=1)\n",
    "N = 200\n",
    "mu = 1\n",
    "sigma = 1.0\n",
    "x_min, x_max = mu - 5*sigma, mu + 5*sigma\n",
    "\n",
    "# Sinh ngẫu nhiên x trong [x_min, x_max]\n",
    "x = np.random.rand(N) * (x_max - x_min) + x_min\n",
    "\n",
    "# Hàm mật độ chuẩn\n",
    "y = (1 / (sigma * np.sqrt(2*np.pi))) * np.exp(-((x - mu)**2) / (2*sigma**2))\n",
    "\n",
    "print(\"b. Sinh cặp (x, y) với y làm hàm phân phối chuẩn\")\n",
    "print(f\"+ x: {x_min} <= min [{np.min(x): .2f}] <= max [{np.max(x): .2f}] <= {x_max}\")\n",
    "print(f\"+ Ve ham so y(x)\")\n",
    "\n",
    "plt.figure(figsize=(6,6))      # kích thước bản vẽ\n",
    "plt.scatter(x, y, s=10)        # vẽ các điểm (xi, yi)\n",
    "plt.savefig(\"4b.png\")          # lưu đồ thị\n",
    "plt.show()"
   ]
  },
  {
   "cell_type": "code",
   "execution_count": null,
   "id": "9125e0a6-dc8c-4159-90ba-f87c54cd9d72",
   "metadata": {},
   "outputs": [],
   "source": [
    "# (c) Sinh ngẫu nhiên dãy số 100000 phần tử theo phân phối chuẩn N(μ=1, σ^2=1)\n",
    "N = 100000\n",
    "mu = 1\n",
    "sigma = 1.0\n",
    "\n",
    "x = mu + np.random.randn(N) * sigma  # biến đổi từ N(0,1) → N(mu, sigma^2)\n",
    "\n",
    "# Thống kê histogram\n",
    "cnt, val = np.histogram(x, bins=300, density=True)\n",
    "\n",
    "print(\"c. Sinh day so theo phan phoi chuan\")\n",
    "print(f\"+ x: len = {len(x)}, min [{np.min(x): .2f}], max [{np.max(x): .2f}]\")\n",
    "print(f\"+ Mat so xac suat cua day so x\")\n",
    "\n",
    "plt.figure(figsize=(6,6))      \n",
    "plt.plot(val[:-1], cnt)        # vẽ đường histogram (x là biên trái của bins)\n",
    "plt.show()"
   ]
  },
  {
   "cell_type": "markdown",
   "id": "b3530d54-6721-4b7c-9d52-0cea7ee4a5c1",
   "metadata": {},
   "source": [
    "### Bài 2. Tính toán trên ma trận"
   ]
  },
  {
   "cell_type": "markdown",
   "id": "3e20d5ec-aa5a-4699-9da4-333a5225af42",
   "metadata": {},
   "source": [
    "#### 1. Tạo ma trận a có M = 6 dòng, N = 4 cột"
   ]
  },
  {
   "cell_type": "code",
   "execution_count": null,
   "id": "191a15ed-af60-4aaf-b466-265bac4607ac",
   "metadata": {},
   "outputs": [],
   "source": [
    "a = np.random.randint(100, 200, (6, 4))\n",
    "print(\"1. Ma trận a: \\n\", a)"
   ]
  },
  {
   "cell_type": "markdown",
   "id": "5323c2f0-b1d0-4e24-9398-51e7f1125b4c",
   "metadata": {},
   "source": [
    "#### 2. Các thao tác trên ma trận a\n",
    "(a) In ra ma trận chuyển vị <br/>\n",
    "(b) In ra phần tử ở vị trí dòng 2 cột 3 <br/>\n",
    "(c) Trích xuất dòng đầu, dòng cuối, dòng 2 <br/>\n",
    "(d) Trích xuất cột kế cuối, cột đầu <br/>\n",
    "(e) Đảo các giá trị trên từng cột <br/>\n",
    "(f) Tính tổng các dòng, trung bình các cột <br/>"
   ]
  },
  {
   "cell_type": "code",
   "execution_count": null,
   "id": "4b9197d4-aa5f-4a39-b0a5-69804a840566",
   "metadata": {},
   "outputs": [],
   "source": [
    "# (a) Ma trận chuyển vị\n",
    "a_t = a.T\n",
    "# (b) Phần tử dòng 2 cột 3 (chỉ số bắt đầu từ 0)\n",
    "v_23 = a[1, 2]\n",
    "# (c) Trích xuất dòng đầu, cuối, dòng 2\n",
    "d_0 = a[0]\n",
    "d_last = a[-1]\n",
    "d_2 = a[1]\n",
    "# (d) Trích xuất cột kế cuối, cột đầu\n",
    "c_l1 = a[:, -2]\n",
    "c_0 = a[:, 0]\n",
    "# (e) Đảo giá trị trên từng cột (lật theo trục dòng)\n",
    "dao_cot = a[::-1, :]\n",
    "# (f) Tổng các dòng, trung bình các cột\n",
    "tong_dong = np.sum(a, axis=1)\n",
    "tb_cot = np.mean(a, axis=0)\n",
    "\n",
    "print(f\"\\n2a. Ma trận chuyển vị: \\n{a_t}\")\n",
    "print(f\"\\n2b. Phần tử ở vị trí dòng 2 cột 3: {v_23}\")\n",
    "print(f\"\\n2c. Trích xuất các dòng: \")\n",
    "print(f\"   + Dòng đầu : {d_0}\")\n",
    "print(f\"   + Dòng cuối: {d_last}\")\n",
    "print(f\"   + Dòng hai : {d_2}\")\n",
    "print(f\"\\n2d. Trích xuất các cột: \")\n",
    "print(f\"   + Cột kế cuối: {c_l1}\")\n",
    "print(f\"   + Cột đầu: {c_0}\")\n",
    "print(f\"\\n2e. Đảo các giá trị trên từng cột: \\n{dao_cot}\")\n",
    "print(f\"\\n2f. Phép tính theo trục:\")\n",
    "print(f\"   + Tổng dòng: {tong_dong}\")\n",
    "print(f\"   + Trung bình cột: {tb_cot}\")"
   ]
  },
  {
   "cell_type": "markdown",
   "id": "9e832f75-102f-4b40-a1ac-5c0595df0650",
   "metadata": {},
   "source": [
    "#### 3. Các toán tử trên hai ma trận\n",
    "(a) Tạo hai ma trận A và B có 4 dòng x 3 cột và X có 3 dòng x 4 cột <br/>\n",
    "(b) Tính tổng, hiệu, tích của từng phần tử trên hai ma trận A và B <br/>\n",
    "(c) Tính phép nhân ma trận Y = A x X"
   ]
  },
  {
   "cell_type": "code",
   "execution_count": null,
   "id": "c1f46ad9-7f79-4d50-b758-da5bec0ad6db",
   "metadata": {},
   "outputs": [],
   "source": [
    "# (a) Tạo ma trận A, B (4x3) và X (3x4)\n",
    "A = np.random.randint(1, 10, (4, 3))\n",
    "B = np.random.randint(1, 10, (4, 3))\n",
    "X = np.random.randint(1, 10, (3, 4))\n",
    "\n",
    "# (b) Tổng, hiệu, tích từng phần tử\n",
    "AB_add = A + B\n",
    "AB_sub = A - B\n",
    "AB_mul = A * B\n",
    "\n",
    "# (c) Nhân ma trận\n",
    "Y = A @ X\n",
    "\n",
    "print(\"\\n3a. Ma trận A, B và X:\")\n",
    "print(f\"+ Ma trận A:\\n{A}\")\n",
    "print(f\"+ Ma trận B:\\n{B}\")\n",
    "print(f\"+ Ma trận X:\\n{X}\")\n",
    "\n",
    "print(\"\\n3b. Tính tổng, hiệu, tích từng phần tử:\")\n",
    "print(f\"A + B = \\n{AB_add}\")\n",
    "print(f\"A - B = \\n{AB_sub}\")\n",
    "print(f\"A . B = \\n{AB_mul}\")\n",
    "\n",
    "print(\"\\n3c. Phép nhân ma trận Y = A x X\")\n",
    "print(f\"Y = A x X --> shape A {A.shape} x shape X {X.shape} = shape Y {Y.shape}\")\n",
    "print(Y)"
   ]
  },
  {
   "cell_type": "markdown",
   "id": "13a9b811-28b9-4e01-bbcd-5fdc99baf5c8",
   "metadata": {
    "tags": []
   },
   "source": [
    "#### 4. Giải hệ phương trình tuyến tính\n",
    "Giải hệ phương trình tuyến tính sau:\n",
    "$$\n",
    "\\left\\{\\begin{matrix}\n",
    "        4x_1  + 3x_2 - 5x_3 = 2 \\\\ \n",
    "        -2x_1 - 4x_2 + 5x_3 = 5 \\\\ \n",
    "        8x_1 + 8x_2 = -3 \\\\ \n",
    "\\end{matrix}\\right.\n",
    "$$"
   ]
  },
  {
   "cell_type": "code",
   "execution_count": null,
   "id": "23140321-4138-4271-9194-cddd1006dded",
   "metadata": {},
   "outputs": [],
   "source": [
    "# Hệ:\n",
    "# 4x1 + 3x2 - 5x3 = 2\n",
    "# -2x1 -4x2 + 5x3 = 5\n",
    "# 8x1 + 8x2       = -3\n",
    "\n",
    "A = np.array([\n",
    "    [4, 3, -5],\n",
    "    [-2, -4, 5],\n",
    "    [8, 8, 0]\n",
    "])\n",
    "y = np.array([2, 5, -3])\n",
    "\n",
    "x = np.linalg.solve(A, y)\n",
    "yy = A @ x\n",
    "diff = np.linalg.norm(yy - y, 2)\n",
    "\n",
    "print(\"\\n4. Giải hệ phương trình tuyến tính:\")\n",
    "print(f\"+ Ma trận A: \\n{A}\")\n",
    "print(f\"+ Vector y: {y}\")\n",
    "print(f\"+ Nghiệm x: {x}\")\n",
    "print(f\"+ Kiểm tra: yy = Ax = {yy} ==> ||yy - y||_2 = {diff:.2f}\")"
   ]
  },
  {
   "cell_type": "markdown",
   "id": "671df24b-8ad0-4c71-b3db-11190cc6dc2d",
   "metadata": {},
   "source": [
    "## Bài tập áp dụng"
   ]
  },
  {
   "cell_type": "markdown",
   "id": "18941e15-58a5-4c2b-8d9b-5dd94907a672",
   "metadata": {},
   "source": [
    "### Bài 3. Tính gần đúng số pi dùng phương pháp Monte Carlo\n",
    "\n",
    "Vẽ một đường tròn $C$ có bán kính $r$ nội tiếp một hình vuông $C$, và đặt ngẫu nhiên $N$ chấm lên hình vuông. Tỉ lệ các chấm nằm trong hình tròn trên tổng số chấm xấp xỉ bằng diện tích của hình tròn chia cho hình vuông như sau:\n",
    "$$\n",
    "\\frac{N_C}{N} \\approx  \\frac{\\mathbb{S}_C}{\\mathbb{S}_N}\n",
    "$$\n",
    "nơi mà $N_C$ là các chấm trong hình tròn, $N$ là tổng số chấm, $\\mathbb{S}_C$ và $\\mathbb{S}_N$ lần lượt là diện tích của hình tròn và hình vuông.\n",
    "$$ \\mathbb{S}_C = \\pi * r^2 $$\n",
    "$$ \\mathbb{S}_N = (2*r)^2 = 4r^2 $$\n",
    "Do đó, công thức trên trở thành:\n",
    "$$\n",
    "\\frac{N_C}{N} \\approx \\frac{\\pi * r^2}{4r^2} = \\frac{\\pi}{4}\n",
    "$$\n",
    "Suy ra, ta có giá trị số $\\pi$ được tính như sau:\n",
    "$$\n",
    "\\pi \\approx \\frac{4N_C}{N}\n",
    "$$\n",
    "\n",
    "Các bạn hãy lập trình tính sấp xỉ số $\\pi$ dùng phương pháp Monte Carlo. Cho biết các sai số với $N = 100$, $N = 10000$, và $N = 1000000$. Vẽ đồ thị minh họa cho chương trình.\n",
    "\n",
    "**Hướng dẫn**: Viết chương trình phát sinh $N$ điểm $(x_i, y_i)$ với $x_i, y_i \\in [-1, -1]$. $(x_i, y_i)$ thuộc hình tròn tâm $(0, 0)$ bán kính 1 nội tiếp hình vuông có tâm tại $(0, 0)$ độ dài cạnh 2 khi và chỉ khi $x_i^2 + y_i^2 <= 1$."
   ]
  },
  {
   "cell_type": "code",
   "execution_count": null,
   "id": "562ce6c7-2718-48f5-8f69-e28ac13b82a0",
   "metadata": {},
   "outputs": [],
   "source": [
    "import matplotlib.pyplot as plt # khai báo thư viện vẽ pyplot\n",
    "import math\n",
    "\n",
    "circle = plt.Circle((0, 0), 1, color='g', fill=False) # tạo đối tượng vòng tròn\n",
    "\n",
    "fig, ax = plt.subplots(figsize=(6, 6)) # lấy figure và vùng vẽ\n",
    "\n",
    "plt.plot(0, 0, 'o', color=(0.9, 0.1, 0.1), alpha=0.8) # vẽ điểm tại tâm (0,0)\n",
    "ax.add_patch(circle) # thêm vòng tròn vào vùng vẽ\n",
    "\n",
    "x = 0.75; y = math.sqrt(1 - (x ** 2)) # ví dụ 1 điểm trên vòng tròn\n",
    "plt.arrow(0, 0, x, y)\n",
    "\n",
    "plt.xlim(-1, 1) # giới hạn trục x\n",
    "plt.ylim(-1, 1) # giới hạn trục y\n",
    "plt.gca().set_aspect('equal', adjustable='box') # giữ tỉ lệ vuông\n",
    "\n",
    "plt.savefig('pi.png') # lưu đồ thị xuống tập tin\n",
    "plt.show()            # hiển thị đồ thị"
   ]
  },
  {
   "cell_type": "code",
   "execution_count": null,
   "id": "b4f27b3e-466c-4677-a738-6f5224c6e104",
   "metadata": {},
   "outputs": [],
   "source": [
    "import numpy as np\n",
    "\n",
    "def calc_pi_monte_carlo(n = 100):\n",
    "    # sinh ngẫu nhiên n điểm trong [-1,1] x [-1,1]\n",
    "    x = np.random.rand(n) * 2 - 1\n",
    "    y = np.random.rand(n) * 2 - 1\n",
    "    \n",
    "    # đếm số điểm nằm trong đường tròn (bán kính = 1, tâm = (0,0))\n",
    "    inside = np.sum(x**2 + y**2 <= 1)\n",
    "    \n",
    "    # tính xấp xỉ pi\n",
    "    pi_approx = 4 * inside / n\n",
    "    return pi_approx"
   ]
  },
  {
   "cell_type": "code",
   "execution_count": null,
   "id": "c1bcf4ef-156e-4e15-9e27-aa249808ac43",
   "metadata": {},
   "outputs": [],
   "source": [
    "import math\n",
    "\n",
    "print(\"epsilon(n=100):     \", calc_pi_monte_carlo(n = 100) - math.pi)\n",
    "print(\"epsilon(n=100):     \", calc_pi_monte_carlo(n = 100) - math.pi)\n",
    "print(\"epsilon(n=10000):   \", calc_pi_monte_carlo(n = 10000) - math.pi)\n",
    "print(\"epsilon(n=10000):   \", calc_pi_monte_carlo(n = 10000) - math.pi)\n",
    "print(\"epsilon(n=1000000): \", calc_pi_monte_carlo(n = 1000000) - math.pi)\n",
    "print(\"epsilon(n=1000000): \", calc_pi_monte_carlo(n = 1000000) - math.pi)"
   ]
  }
 ],
 "metadata": {
  "kernelspec": {
   "display_name": "Python 3 (ipykernel)",
   "language": "python",
   "name": "python3"
  },
  "language_info": {
   "codemirror_mode": {
    "name": "ipython",
    "version": 3
   },
   "file_extension": ".py",
   "mimetype": "text/x-python",
   "name": "python",
   "nbconvert_exporter": "python",
   "pygments_lexer": "ipython3",
   "version": "3.13.5"
  }
 },
 "nbformat": 4,
 "nbformat_minor": 5
}
