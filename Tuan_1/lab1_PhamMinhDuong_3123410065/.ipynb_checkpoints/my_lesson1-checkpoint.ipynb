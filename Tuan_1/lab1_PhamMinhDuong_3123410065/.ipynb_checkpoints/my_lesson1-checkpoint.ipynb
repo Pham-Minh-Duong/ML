{
 "cells": [
  {
   "cell_type": "markdown",
   "id": "15e98d9a-d734-4f67-b68d-ea517d42f89d",
   "metadata": {
    "tags": []
   },
   "source": [
    "# “Thuc hanh tri tue nhan tao Buoi 1”\n",
    "## “Noi dung thuc hanh” "
   ]
  },
  {
   "cell_type": "markdown",
   "id": "42bb23a1-54bb-4a77-8e44-2b54c9b2d7f2",
   "metadata": {
    "tags": []
   },
   "source": [
    "### In chu ra man hinh"
   ]
  },
  {
   "cell_type": "code",
   "execution_count": 1,
   "id": "f4e5c370-04dc-4f3f-a17c-25e261dd2e66",
   "metadata": {},
   "outputs": [
    {
     "name": "stdout",
     "output_type": "stream",
     "text": [
      "Hello, Python World!\n"
     ]
    }
   ],
   "source": [
    "# lenh 1 - xuat chu\n",
    "print(\"Hello, Python World!\")"
   ]
  },
  {
   "cell_type": "code",
   "execution_count": null,
   "id": "7e542ed5-1127-4c5e-bc7e-de7664e56fc3",
   "metadata": {},
   "outputs": [
    {
     "name": "stdout",
     "output_type": "stream",
     "text": [
      "Calculator Basic\n"
     ]
    }
   ],
   "source": [
    "%run ex1_calc.py"
   ]
  },
  {
   "cell_type": "code",
   "execution_count": null,
   "id": "3b1d1d70-b0fa-4180-ad19-ab4788831c79",
   "metadata": {},
   "outputs": [],
   "source": [
    "%run ex3_circle.py"
   ]
  },
  {
   "cell_type": "code",
   "execution_count": null,
   "id": "e99c21dc-c73d-418f-9e0e-d20794a5d8ee",
   "metadata": {},
   "outputs": [],
   "source": [
    "%run ex0_hello_world"
   ]
  },
  {
   "cell_type": "markdown",
   "id": "60c0c355-722f-4f0a-9534-e52e16fba2aa",
   "metadata": {
    "tags": []
   },
   "source": [
    "# Ket Thuc"
   ]
  }
 ],
 "metadata": {
  "kernelspec": {
   "display_name": "Python 3 (ipykernel)",
   "language": "python",
   "name": "python3"
  },
  "language_info": {
   "codemirror_mode": {
    "name": "ipython",
    "version": 3
   },
   "file_extension": ".py",
   "mimetype": "text/x-python",
   "name": "python",
   "nbconvert_exporter": "python",
   "pygments_lexer": "ipython3",
   "version": "3.13.5"
  }
 },
 "nbformat": 4,
 "nbformat_minor": 5
}
