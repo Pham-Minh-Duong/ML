{
 "cells": [
  {
   "cell_type": "markdown",
   "id": "fe0d6940-0697-40f6-897a-ea9c4c27a777",
   "metadata": {},
   "source": [
    "ex2_scientific1"
   ]
  },
  {
   "cell_type": "markdown",
   "id": "4a984744-0656-4710-84a3-4b702e6e452e",
   "metadata": {},
   "source": [
    "Nội dung bài\n",
    "Hiển thị ngẫu nhiên $N=50$ hình tròn:\n",
    "+ Tâm $c_i = (x_i,y_i)$ ngẫu nhiên với $x_i, y_i \\in \\left[0, 1 \\right]$\n",
    "+ Màu sắc $color_i$ ngẫu nhiên với $color_i \\in \\left[0, 1 \\right]$\n",
    "+ Diện tích $area_i = \\pi * r_i^2$ với sinh ngẫu nhiên $r_i \\in \\left[0, 1 \\right]$"
   ]
  },
  {
   "cell_type": "markdown",
   "id": "c89a4a6b-3d6c-4064-b4cd-f6be52c512cd",
   "metadata": {},
   "source": [
    "Bài làm"
   ]
  },
  {
   "cell_type": "markdown",
   "id": "e1543fb6-1186-4461-8f26-979bd1edb87a",
   "metadata": {},
   "source": [
    "Import thư viện"
   ]
  },
  {
   "cell_type": "code",
   "execution_count": null,
   "id": "8166d637-5487-4ad4-a0c1-cb30fe62f096",
   "metadata": {},
   "outputs": [],
   "source": [
    "import numpy as np\n",
    "import matplotlib.pyplot as plt\n",
    "from IPython import display # hiển thị rich output"
   ]
  },
  {
   "cell_type": "markdown",
   "id": "ff01657a-70b9-4c3d-83df-467e680d8646",
   "metadata": {},
   "source": [
    "Sinh ngẫu nhiên hình tròn"
   ]
  },
  {
   "cell_type": "code",
   "execution_count": null,
   "id": "e7e95c96-2a21-4a4d-ac23-752a67a1ae3a",
   "metadata": {},
   "outputs": [],
   "source": [
    "%time\n",
    "# generate randomly the center (x,y ) of circle, color, area\n",
    "N = 50\n",
    "x = np.random.rand(N)\n",
    "y = np.random.rand(N)\n",
    "colors = np.random.rand(N)\n",
    "area = np.pi * (15 * np.random.rand(N)) ** 2  # 0 to 15 point radii"
   ]
  },
  {
   "cell_type": "code",
   "execution_count": null,
   "id": "def87aad-6730-4059-a7b5-bd7342237861",
   "metadata": {},
   "outputs": [],
   "source": [
    "# Mã kiểm tra dữ liệu\n",
    "print(f'+ x: len={len(x):d}, [{min(x):.2f}, {max(x):.2f}]: 10 samples [{x[0:10]}]')\n",
    "print(f'+ y: len={len(y):d}, [{min(y):.2f}, {max(y):.2f}]: 10 samples [{y[0:10]}]')\n",
    "print(f'+ colors: len={len(colors):d}, [{min(colors):.2f}, {max(colors):.2f}]: 10 samples [{colors[0:10]}]')\n",
    "print(f'+ area: len={len(area):d}, [{min(area):.2f}, {max(area):.2f}]: 10 samples [{area[0:10]}]')"
   ]
  },
  {
   "cell_type": "markdown",
   "id": "969c3c2e-98c2-419a-b180-110e86684de5",
   "metadata": {},
   "source": [
    "Hiển thị đồ thị"
   ]
  },
  {
   "cell_type": "code",
   "execution_count": null,
   "id": "9346abf6-1f78-4cbb-9047-47b837311300",
   "metadata": {},
   "outputs": [],
   "source": [
    "%matplotlib inline\n",
    "plt.scatter(x, y, s=area, c=colors, alpha=0.5)\n",
    "plt.show()"
   ]
  },
  {
   "cell_type": "markdown",
   "id": "9567daf9-382f-45dd-85de-5c45c25c31a1",
   "metadata": {},
   "source": [
    "Kết thúc"
   ]
  }
 ],
 "metadata": {
  "kernelspec": {
   "display_name": "Python 3 (ipykernel)",
   "language": "python",
   "name": "python3"
  },
  "language_info": {
   "codemirror_mode": {
    "name": "ipython",
    "version": 3
   },
   "file_extension": ".py",
   "mimetype": "text/x-python",
   "name": "python",
   "nbconvert_exporter": "python",
   "pygments_lexer": "ipython3",
   "version": "3.13.5"
  }
 },
 "nbformat": 4,
 "nbformat_minor": 5
}
